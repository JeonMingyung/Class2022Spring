{
  "nbformat": 4,
  "nbformat_minor": 0,
  "metadata": {
    "colab": {
      "name": "packages.ipynb의 사본",
      "provenance": [],
      "collapsed_sections": []
    },
    "kernelspec": {
      "name": "python3",
      "display_name": "Python 3"
    },
    "language_info": {
      "name": "python"
    }
  },
  "cells": [
    {
      "cell_type": "code",
      "execution_count": null,
      "metadata": {
        "id": "yUr2PYRXCHJT"
      },
      "outputs": [],
      "source": [
        "import numpy\n",
        "# 행렬과 수치\n",
        "import pandas\n",
        "# 엑셀 처리\n",
        "import matplotlib\n",
        "# 시각화 용도에 유용\n",
        "import seaborn\n",
        "import sklearn\n",
        "import requests\n",
        "# 웹에서 필요한 것\n",
        "import urllib3\n",
        "import nltk\n",
        "# 문과 학생에게 필수, 텍스트 처리\n",
        "import PIL\n",
        "# 이미지 파일 처리, 조작, 불러오기 등\n",
        "import pytest\n",
        "import librosa\n",
        "# 소리 불러오기, 조작 등"
      ]
    }
  ]
}