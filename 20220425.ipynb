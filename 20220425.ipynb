{
  "nbformat": 4,
  "nbformat_minor": 0,
  "metadata": {
    "colab": {
      "name": "20220425.ipynb",
      "provenance": []
    },
    "kernelspec": {
      "name": "python3",
      "display_name": "Python 3"
    },
    "language_info": {
      "name": "python"
    }
  },
  "cells": [
    {
      "cell_type": "markdown",
      "source": [
        "**Auto Correlation (자기상관함수)**\n",
        "\n",
        ">월별 자료인 경우, 이번 달 개체수가 지난 달 개체 수와 어떻게 연관성이 있는가를 나타낸 것이 1차 자기상관이며, 이번 달 개체수가 k 시간차의 개체수와 어떻게 연관성이 있는가를 나타낸 것이 k차 자기상관이다. "
      ],
      "metadata": {
        "id": "_feMhq6perWU"
      }
    },
    {
      "cell_type": "code",
      "source": [
        ""
      ],
      "metadata": {
        "id": "hdxUMOnEgcdp"
      },
      "execution_count": null,
      "outputs": []
    },
    {
      "cell_type": "code",
      "source": [
        "# 예제\n",
        "# correlation\n",
        "\n",
        "# pearson\n",
        "import scipy.stats\n",
        "\n",
        "scipy.stats.pearsonr(x, y)\n",
        "\n",
        "\n",
        "# spearmanr\n",
        "from scipy.stats import spearmanr\n",
        "\n",
        "np.round(spearmanr(df_tmp).correlation, 4)\n",
        "\n",
        "fig, ax = plt.subplots(figsize=(20, 20))\n",
        "ax.matshow(abs(corr))\n",
        "\n",
        "cutree = hc.cut_tree(z, height=[0.2]).reshape(-1)  # height 0 ~ 1 ?\n",
        "\n",
        "import matplotlib\n",
        "import matplotlib.cm as cm\n",
        "minima = min(cutree)\n",
        "maxima = max(cutree)\n",
        "norm = matplotlib.colors.Normalize(vmin=minima, vmax=maxima, clip=True)\n",
        "mapper = cm.ScalarMappable(norm=norm, cmap=cm.Greys)\n",
        "\n",
        "fig = plt.figure(figsize=(20, 40))\n",
        "dn = hc.dendrogram(z, orientation='left', leaf_font_size=10)\n",
        "ax = plt.gca()\n",
        "plt.title('Features Clustered')\n",
        "plt.show()\n",
        "\n",
        "\n",
        "from pandas.plotting import scatter_matrix\n",
        "\n",
        "cluster_label, cluster_cnt = np.unique(cutree, return_counts=True)\n",
        "for label in cluster_label[np.where(cluster_cnt > 1)[0]]:\n",
        "    for idx_col in np.where(cutree == label)[0]:\n",
        "        df.iloc[:, idx_col].plot(marker=\"o\", alpha=0.2, figsize=[20, 4])\n",
        "        plt.ylabel(\"Value\")\n",
        "        plt.title(f\"{df.columns[idx_col]}  |  cluster: {label}\")\n",
        "        plt.legend()\n",
        "        plt.show()\n",
        "        \n",
        "    _ = scatter_matrix(\n",
        "        df.iloc[:, np.where(cutree == label)[0]],\n",
        "        figsize=(8, 8)\n",
        "    )\n",
        "    plt.show()\n",
        "    print(\"\\n\\n\")\n",
        "\n",
        "\n",
        "\n",
        "\n",
        "# auto correlation\n",
        "\n",
        "\n",
        "import statsmodels.api as sm\n",
        "\n",
        "# # autocorrelation\n",
        "# print(sm.graphics.tsa.acf(ts_data, nlags=40))\n",
        "# # partial autocorrelation\n",
        "# print(sm.graphics.tsa.acf(ts_data, nlags=40))\n",
        "\n",
        "sm.graphics.tsa.plot_acf(ts_data, lags=100)\n",
        "plt.show()\n",
        "\n"
      ],
      "metadata": {
        "id": "eRX2Y-ZAe1-O"
      },
      "execution_count": null,
      "outputs": []
    },
    {
      "cell_type": "markdown",
      "source": [
        "**RMS (root mean square)**\n",
        "\n",
        "> 본디 변량의 값을 각 제곱하여 평균을 낸 후, 그 값에 루트를 씌운 것이다. 프로그래밍 언어에서는 파형 신호의 순시값(instantaneous value) 제곱을 한 주기간 평균한 것의 제곱근을 의미한다.\n",
        "\n",
        "> 증폭기가 연속적으로 낼 수 있는 출력을 표시하는 것으로, 이 출력 값이 높을수록 기본적인 증폭 능력이 좋다.\n",
        "\n",
        "\n"
      ],
      "metadata": {
        "id": "h3ibOI2XfvKA"
      }
    },
    {
      "cell_type": "code",
      "source": [
        "#RMSE scikit-learn에서 불러오기\n",
        "\n",
        "\n",
        "from sklearn.metrics import mean_squared_error\n",
        "import math\n",
        "actual = [1,2,5,2,7, 5]\n",
        "predicted = [1,4,2,9,8,6]\n",
        "MSE = mean_squared_error(actual, predicted)\n",
        "RMSE = math.sqrt(MSE)\n",
        "print(\"Root Mean Square Error:\",RMSE)\n"
      ],
      "metadata": {
        "colab": {
          "base_uri": "https://localhost:8080/"
        },
        "id": "hYZDg14Gf3EO",
        "outputId": "ccbe0448-eed6-4a84-e15d-c74b1672c3b7"
      },
      "execution_count": 8,
      "outputs": [
        {
          "output_type": "stream",
          "name": "stdout",
          "text": [
            "Root Mean Square Error: 3.265986323710904\n"
          ]
        }
      ]
    },
    {
      "cell_type": "code",
      "source": [
        "#RMSE numpy에서 불러오기\n",
        "\n",
        "import numpy as np\n",
        "actual = [1,2,5,2,7, 5]\n",
        "predicted = [1,4,2,9,8,6] \n",
        "diff=np.subtract(actual,predicted)\n",
        "square=np.square(diff)\n",
        "MSE=square.mean()\n",
        "RMSE=np.sqrt(MSE)\n",
        "print(\"Root Mean Square Error:\", RMSE)\n"
      ],
      "metadata": {
        "colab": {
          "base_uri": "https://localhost:8080/"
        },
        "id": "eHVUDU_pgFJj",
        "outputId": "6884c1da-6b76-429a-ee0a-29194890c3df"
      },
      "execution_count": 9,
      "outputs": [
        {
          "output_type": "stream",
          "name": "stdout",
          "text": [
            "Root Mean Square Error: 3.265986323710904\n"
          ]
        }
      ]
    }
  ]
}