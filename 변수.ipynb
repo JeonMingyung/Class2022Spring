{
  "nbformat": 4,
  "nbformat_minor": 0,
  "metadata": {
    "colab": {
      "name": "Untitled0.ipynb",
      "provenance": []
    },
    "kernelspec": {
      "name": "python3",
      "display_name": "Python 3"
    },
    "language_info": {
      "name": "python"
    }
  },
  "cells": [
    {
      "cell_type": "code",
      "execution_count": null,
      "metadata": {
        "id": "GDxTDTt57-E_"
      },
      "outputs": [],
      "source": [
        "a = 1\n",
        "b = 2\n",
        "c = 5\n",
        "# 셀을 잘 끊어 넣는 것 중요! 한 번에 다 실행 안 할 때 유용"
      ]
    },
    {
      "cell_type": "code",
      "source": [
        "d = a + b + c\n",
        "# 변수는 크게 숫자와 string(글자) 두 개로 나뉜다."
      ],
      "metadata": {
        "id": "W85ZOJsY8Kxd"
      },
      "execution_count": null,
      "outputs": []
    },
    {
      "cell_type": "markdown",
      "source": [
        "텍스트 칸은 더블 클릭해서 수정 가능함. 이미지, 하이퍼링크 등 워드 프로세싱이 가능하다."
      ],
      "metadata": {
        "id": "HCQGtAJu8WQ6"
      }
    }
  ]
}